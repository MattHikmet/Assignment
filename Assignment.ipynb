{
 "cells": [
  {
   "cell_type": "markdown",
   "metadata": {
    "jp-MarkdownHeadingCollapsed": true,
    "tags": []
   },
   "source": [
    "# Big Project of Hikmet Yurtbakan"
   ]
  },
  {
   "cell_type": "markdown",
   "metadata": {},
   "source": [
    "# TO BE A DATA SCIENTIST IS NOT DIFFICULT."
   ]
  },
  {
   "cell_type": "markdown",
   "metadata": {},
   "source": [
    "## INTRODUCTION\n",
    "This will be a composition of examples about Jupyter Notebook and my assignments.\n",
    "You will be able to read online my work because of I will share it on Github.\n",
    "I hope you enjoy it."
   ]
  },
  {
   "cell_type": "markdown",
   "metadata": {},
   "source": [
    "## WHICH LANGUAGE DOES A DATA SCIENTIST USE?\n",
    "Let's start with languages. \n",
    "Mostly using data science programming languages are here:\n",
    "1. Python\n",
    "1. R\n",
    "1. SQL\n",
    "1. Java\n",
    "1. Julia\n",
    "1. Scala\n",
    "1. C/C++\n",
    "1. JavaScript\n",
    "1. Swift\n",
    "1. Go\n",
    "1. MATLAB\n",
    "1. SAS"
   ]
  },
  {
   "cell_type": "markdown",
   "metadata": {
    "tags": []
   },
   "source": [
    "## WHICH LIBRARIES DOES A DATA SCIENTIST USE?\n",
    "A lot of data scientists use Python libraries and R libraries. Commonly used Python libraries are:\n",
    "### Data Mining\n",
    "1. Scrapy: One of the most popular Python data science libraries, Scrapy helps to build crawling programs (spider bots) that can retrieve structured data from the web \n",
    "1. BeautifulSoup: BeautifulSoup is another really popular library for web crawling and data scraping.\n",
    "### Data Processing and Modeling\n",
    "1. NumPy (Numerical Python): This is a perfect tool for scientific computing and performing basic and advanced array operations.\n",
    "1. SciPy: This useful library includes modules for linear algebra, integration, optimization, and statistics.\n",
    "1. Pandas: Pandas is a library created to help developers work with \"labeled\" and \"relational\" data intuitively.\n",
    "1. Keras: Keras is a great library for building neural networks and modeling.\n",
    "1. SciKit-Learn: Scikits is a group of packages in the SciPy Stack that were created for specific functionalities – for example, image processing.\n",
    "1. PyTorch: PyTorch is a framework that is perfect for data scientists who want to perform deep learning tasks easily.\n",
    "1. TensorFlow: TensorFlow is a popular Python framework for machine learning and deep learning, which was developed at Google Brain.\n",
    "1. XGBoost: Use this library to implement machine learning algorithms under the Gradient Boosting framework.\n",
    "### Data Visualization\n",
    "1. Matplotlib: This is a standard data science library that helps to generate data visualizations such as two-dimensional diagrams and graphs.\n",
    "1. Seaborn: Seaborn is based on Matplotlib and serves as a useful Python machine learning tool for visualizing statistical models.\n",
    "1. Bokeh: This library is a great tool for creating interactive and scalable visualizations inside browsers using JavaScript widgets.\n",
    "1. Plotly: This web-based tool for data visualization that offers many useful out-of-box graphics – you can find them on the Plot.ly website.\n",
    "1. pydot: This library helps to generate oriented and non-oriented graphs.\n",
    "\n",
    "### The top 6 R libraries for Data Science are:\n",
    "1. dplyr: is a very popular data manipulation library in R.\n",
    "1. ggplot2: is an R data visualization library that is based on The Grammar of Graphics.\n",
    "1. Esquisse: is a data visualization tool in R that allows you to create detailed data visualizations using the ggplot2 package.\n",
    "1. Shiny: is an R package that can be used to build interactive web applications in R. Basically, Shiny gives a combination between R and the modern web.\n",
    "1. mlr3: is an R tool created specifically for Machine Learning.\n",
    "1. Lubridate: is an R library that is particularly focused on making date-time easy to handle.\n",
    "\n",
    "\n",
    "\n"
   ]
  },
  {
   "cell_type": "markdown",
   "metadata": {
    "tags": []
   },
   "source": [
    " ### Data Science tools \n",
    "\n",
    "Number|Name|Explanation\n",
    "|:-:|:-|-:|\n",
    "|1|SAS|It is one of those data science tools which are specifically designed for statistical operations.|\n",
    "|2|Apache Spark|Apache Spark or simply Spark is a powerful analytic engine and it is the most used Data Science tool. |\n",
    "|3|BigML|It provides a fully intractable, cloud-based GUI environment that you can use for processing Machine Learning Algorithms.|\n",
    "|4|D3.js|D3.js, a Javascript library allows you to make interactive visualizations on your web-browser.|\n",
    "|5|MATLAB|MATLAB is a multi-paradigm numerical computing environment for processing mathematical information.\n",
    "|6|Excel|Microsoft developed Excel mostly for spreadsheet calculations and today, it is widely used for data processing, visualization, and complex calculations.\n",
    "|7|ggplot2|ggplot2 is an advanced data visualization package for the R programming language.|\n",
    "|8|Tableau|Tableau is a Data Visualization software that is packed with powerful graphics to make interactive visualizations.|\n",
    "|9|Jupyter|Project Jupyter is an open-source tool based on IPython for helping developers in making open-source software and experiences interactive computing.|\n",
    "|10|Matplotlib|It is the most popular tool for generating graphs with the analyzed data.|"
   ]
  },
  {
   "cell_type": "markdown",
   "metadata": {},
   "source": [
    "$$X=3\\\\ X^{2}=9\\\\ 2X^{2}+5=23$$"
   ]
  },
  {
   "cell_type": "code",
   "execution_count": 1,
   "metadata": {},
   "outputs": [],
   "source": [
    "a=3\n",
    "b=6\n",
    "c=a+2*(b-5)"
   ]
  },
  {
   "cell_type": "code",
   "execution_count": 2,
   "metadata": {},
   "outputs": [
    {
     "name": "stdout",
     "output_type": "stream",
     "text": [
      "14\n"
     ]
    }
   ],
   "source": [
    "print (1+a+2*c)"
   ]
  },
  {
   "cell_type": "code",
   "execution_count": 3,
   "metadata": {},
   "outputs": [
    {
     "name": "stdout",
     "output_type": "stream",
     "text": [
      "15\n"
     ]
    }
   ],
   "source": [
    "x=-1\n",
    "y=3\n",
    "z=2*x + 3*y + 2**3\n",
    "print(z)"
   ]
  },
  {
   "cell_type": "code",
   "execution_count": 6,
   "metadata": {
    "tags": []
   },
   "outputs": [
    {
     "name": "stdin",
     "output_type": "stream",
     "text": [
      "Please enter minutes: 90\n"
     ]
    },
    {
     "name": "stdout",
     "output_type": "stream",
     "text": [
      "1.5  hours\n"
     ]
    }
   ],
   "source": [
    "##I will put 90 minutes for example\n",
    "minutes = int(input(\"Please enter minutes:\"))\n",
    "hours = (minutes /60)\n",
    "print(hours, \" hours\")"
   ]
  },
  {
   "cell_type": "markdown",
   "metadata": {},
   "source": [
    "## What I learned with this assignment: Objectives"
   ]
  },
  {
   "cell_type": "markdown",
   "metadata": {},
   "source": [
    "You will see what I complete in this example:\n",
    "1. Using Jupyter Notebook\n",
    "1. Making Markdown and Code cells with bold and list options\n",
    "1. Making a table in a Markdown cell.\n",
    "1. Writing a code and execute it.\n",
    "1. Using Markdown cells, writing essential Data Science tools, languages, and libraries."
   ]
  },
  {
   "cell_type": "markdown",
   "metadata": {},
   "source": [
    "## Author's name is Hikmet Yurtbakan"
   ]
  },
  {
   "cell_type": "code",
   "execution_count": null,
   "metadata": {},
   "outputs": [],
   "source": []
  }
 ],
 "metadata": {
  "kernelspec": {
   "display_name": "Python",
   "language": "python",
   "name": "conda-env-python-py"
  },
  "language_info": {
   "codemirror_mode": {
    "name": "ipython",
    "version": 3
   },
   "file_extension": ".py",
   "mimetype": "text/x-python",
   "name": "python",
   "nbconvert_exporter": "python",
   "pygments_lexer": "ipython3",
   "version": "3.7.12"
  }
 },
 "nbformat": 4,
 "nbformat_minor": 4
}
